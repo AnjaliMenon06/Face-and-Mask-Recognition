{
 "cells": [
  {
   "cell_type": "markdown",
   "id": "024b29d8",
   "metadata": {},
   "source": [
    "#                                 MI-ZOT \n",
    "\n",
    "# FACE MASK DETECTION "
   ]
  },
  {
   "cell_type": "markdown",
   "id": "4ca22681",
   "metadata": {},
   "source": [
    "## ML CASE STUDY - GRP 3"
   ]
  },
  {
   "cell_type": "markdown",
   "id": "ff722d56",
   "metadata": {},
   "source": [
    "### Importing the packages"
   ]
  },
  {
   "cell_type": "code",
   "execution_count": 1,
   "id": "59d97cd2",
   "metadata": {},
   "outputs": [],
   "source": [
    "from tensorflow.keras.preprocessing.image import ImageDataGenerator\n",
    "from tensorflow.keras.applications import MobileNetV2\n",
    "from tensorflow.keras.layers import AveragePooling2D\n",
    "from tensorflow.keras.layers import Dropout\n",
    "from tensorflow.keras.layers import Flatten\n",
    "from tensorflow.keras.layers import Dense\n",
    "from tensorflow.keras.layers import Input\n",
    "from tensorflow.keras.models import Model\n",
    "from tensorflow.keras.optimizers import Adam\n",
    "from tensorflow.keras.applications.mobilenet_v2 import preprocess_input\n",
    "from tensorflow.keras.preprocessing.image import img_to_array\n",
    "from tensorflow.keras.preprocessing.image import load_img\n",
    "from tensorflow.keras.utils import to_categorical\n",
    "from sklearn.preprocessing import LabelBinarizer\n",
    "from sklearn.model_selection import train_test_split\n",
    "from sklearn.metrics import classification_report\n",
    "from imutils import paths\n",
    "import matplotlib.pyplot as plt\n",
    "import numpy as np\n",
    "import os\n",
    "\n",
    "\n",
    "\n",
    "\n"
   ]
  },
  {
   "cell_type": "markdown",
   "id": "806f4ddc",
   "metadata": {},
   "source": [
    "### initialize the initial learning rate, number of epochs to train for, and batch size"
   ]
  },
  {
   "cell_type": "code",
   "execution_count": 2,
   "id": "90197037",
   "metadata": {},
   "outputs": [],
   "source": [
    "INIT_LR = 1e-4\n",
    "EPOCHS = 20\n",
    "BS = 32\n",
    "\n",
    "DIRECTORY = r\"C:\\Users\\KAVIN\\ML\\Mask detection - case study\\dataset\"\n",
    "CATEGORIES = [\"with_mask\", \"without_mask\"]\n",
    "\n"
   ]
  },
  {
   "cell_type": "markdown",
   "id": "099ac9ba",
   "metadata": {},
   "source": [
    "### grab the list of images in our dataset directory, then initialize the list of data (i.e., images) and class images "
   ]
  },
  {
   "cell_type": "code",
   "execution_count": 3,
   "id": "e2c8c35d",
   "metadata": {},
   "outputs": [
    {
     "name": "stdout",
     "output_type": "stream",
     "text": [
      "xxx---[INFO] loading images...---xxx\n"
     ]
    },
    {
     "name": "stderr",
     "output_type": "stream",
     "text": [
      "C:\\Users\\KAVIN\\anaconda3\\lib\\site-packages\\PIL\\Image.py:975: UserWarning: Palette images with Transparency expressed in bytes should be converted to RGBA images\n",
      "  warnings.warn(\n"
     ]
    }
   ],
   "source": [
    "print(\"xxx---[INFO] loading images...---xxx\")\n",
    "\n",
    "data = []\n",
    "labels = []\n",
    "\n",
    "for category in CATEGORIES:\n",
    "    path = os.path.join(DIRECTORY, category)\n",
    "    for img in os.listdir(path):\n",
    "        img_path = os.path.join(path, img)\n",
    "        image = load_img(img_path, target_size=(224, 224))\n",
    "        image = img_to_array(image)\n",
    "        image = preprocess_input(image)\n",
    "\n",
    "        data.append(image)\n",
    "        labels.append(category)\n",
    "\n"
   ]
  },
  {
   "cell_type": "markdown",
   "id": "188da797",
   "metadata": {},
   "source": [
    "### perform one-hot encoding on the labels"
   ]
  },
  {
   "cell_type": "code",
   "execution_count": 4,
   "id": "12451557",
   "metadata": {},
   "outputs": [],
   "source": [
    "lb = LabelBinarizer()\n",
    "labels = lb.fit_transform(labels)\n",
    "labels = to_categorical(labels)\n",
    "\n",
    "data = np.array(data, dtype=\"float32\")\n",
    "labels = np.array(labels)\n",
    "\n",
    "(trainX, testX, trainY, testY) = train_test_split(data, labels,\n",
    "    test_size=0.20, stratify=labels, random_state=42)\n",
    "\n"
   ]
  },
  {
   "cell_type": "markdown",
   "id": "9c4e50de",
   "metadata": {},
   "source": [
    "### construct the training image generator for data augmentation"
   ]
  },
  {
   "cell_type": "code",
   "execution_count": 5,
   "id": "660710fa",
   "metadata": {},
   "outputs": [],
   "source": [
    "aug = ImageDataGenerator(\n",
    "    rotation_range=20,\n",
    "    zoom_range=0.15,\n",
    "    width_shift_range=0.2,\n",
    "    height_shift_range=0.2,\n",
    "    shear_range=0.15,\n",
    "    horizontal_flip=True,\n",
    "    fill_mode=\"nearest\")\n",
    "\n"
   ]
  },
  {
   "cell_type": "markdown",
   "id": "957eac63",
   "metadata": {},
   "source": [
    "### load the MobileNetV2 network, ensuring the head FC layer sets areleft off"
   ]
  },
  {
   "cell_type": "code",
   "execution_count": 6,
   "id": "47388c14",
   "metadata": {},
   "outputs": [
    {
     "name": "stdout",
     "output_type": "stream",
     "text": [
      "WARNING:tensorflow:`input_shape` is undefined or non-square, or `rows` is not in [96, 128, 160, 192, 224]. Weights for input shape (224, 224) will be loaded as the default.\n"
     ]
    }
   ],
   "source": [
    "baseModel = MobileNetV2(weights=\"imagenet\", include_top=False,\n",
    "    input_tensor=Input(shape=(224, 224, 3)))\n",
    "\n"
   ]
  },
  {
   "cell_type": "markdown",
   "id": "52ae5521",
   "metadata": {},
   "source": [
    "### construct the head of the model that will be placed on top of the the base model\n"
   ]
  },
  {
   "cell_type": "code",
   "execution_count": 7,
   "id": "f6b10847",
   "metadata": {},
   "outputs": [],
   "source": [
    "headModel = baseModel.output\n",
    "headModel = AveragePooling2D(pool_size=(7, 7))(headModel)\n",
    "headModel = Flatten(name=\"flatten\")(headModel)\n",
    "headModel = Dense(128, activation=\"relu\")(headModel)\n",
    "headModel = Dropout(0.5)(headModel)\n",
    "headModel = Dense(2, activation=\"softmax\")(headModel)\n",
    "\n"
   ]
  },
  {
   "cell_type": "markdown",
   "id": "03dcb1c0",
   "metadata": {},
   "source": [
    "### place the headmodel on top of the base model (this will become the actual model we will train)"
   ]
  },
  {
   "cell_type": "code",
   "execution_count": 8,
   "id": "4e2f591c",
   "metadata": {},
   "outputs": [],
   "source": [
    "\n",
    "model = Model(inputs=baseModel.input, outputs=headModel)\n",
    "\n"
   ]
  },
  {
   "cell_type": "markdown",
   "id": "2f57bc42",
   "metadata": {},
   "source": [
    "### loop over all layers in the base model and freeze them so they will *not* be updated during the first training process"
   ]
  },
  {
   "cell_type": "code",
   "execution_count": 9,
   "id": "cee55b8c",
   "metadata": {},
   "outputs": [],
   "source": [
    "\n",
    "for layer in baseModel.layers:\n",
    "    layer.trainable = False\n",
    "\n"
   ]
  },
  {
   "cell_type": "markdown",
   "id": "dbb3eb26",
   "metadata": {},
   "source": [
    "### compile our model"
   ]
  },
  {
   "cell_type": "code",
   "execution_count": 10,
   "id": "00025dc4",
   "metadata": {},
   "outputs": [
    {
     "name": "stdout",
     "output_type": "stream",
     "text": [
      "[INFO] compiling model...\n"
     ]
    },
    {
     "name": "stderr",
     "output_type": "stream",
     "text": [
      "C:\\Users\\KAVIN\\anaconda3\\lib\\site-packages\\keras\\optimizer_v2\\adam.py:105: UserWarning: The `lr` argument is deprecated, use `learning_rate` instead.\n",
      "  super(Adam, self).__init__(name, **kwargs)\n"
     ]
    }
   ],
   "source": [
    "\n",
    "print(\"[INFO] compiling model...\")\n",
    "opt = Adam(lr=INIT_LR, decay=INIT_LR / EPOCHS)\n",
    "model.compile(loss=\"binary_crossentropy\", optimizer=opt,\n",
    "    metrics=[\"accuracy\"])\n",
    "\n"
   ]
  },
  {
   "cell_type": "markdown",
   "id": "cd0c5a56",
   "metadata": {},
   "source": [
    "### train the head of the network"
   ]
  },
  {
   "cell_type": "code",
   "execution_count": 11,
   "id": "21bf635c",
   "metadata": {},
   "outputs": [
    {
     "name": "stdout",
     "output_type": "stream",
     "text": [
      "[INFO] training head...\n",
      "Epoch 1/20\n",
      "95/95 [==============================] - 142s 1s/step - loss: 0.4225 - accuracy: 0.8316 - val_loss: 0.1520 - val_accuracy: 0.9831\n",
      "Epoch 2/20\n",
      "95/95 [==============================] - 127s 1s/step - loss: 0.1463 - accuracy: 0.9621 - val_loss: 0.0735 - val_accuracy: 0.9922\n",
      "Epoch 3/20\n",
      "95/95 [==============================] - 126s 1s/step - loss: 0.0990 - accuracy: 0.9750 - val_loss: 0.0548 - val_accuracy: 0.9935\n",
      "Epoch 4/20\n",
      "95/95 [==============================] - 124s 1s/step - loss: 0.0813 - accuracy: 0.9773 - val_loss: 0.0495 - val_accuracy: 0.9870\n",
      "Epoch 5/20\n",
      "95/95 [==============================] - 134s 1s/step - loss: 0.0741 - accuracy: 0.9802 - val_loss: 0.0411 - val_accuracy: 0.9935\n",
      "Epoch 6/20\n",
      "95/95 [==============================] - 139s 1s/step - loss: 0.0615 - accuracy: 0.9802 - val_loss: 0.0365 - val_accuracy: 0.9909\n",
      "Epoch 7/20\n",
      "95/95 [==============================] - 139s 1s/step - loss: 0.0573 - accuracy: 0.9832 - val_loss: 0.0347 - val_accuracy: 0.9935\n",
      "Epoch 8/20\n",
      "95/95 [==============================] - 149s 2s/step - loss: 0.0463 - accuracy: 0.9858 - val_loss: 0.0327 - val_accuracy: 0.9935\n",
      "Epoch 9/20\n",
      "95/95 [==============================] - 139s 1s/step - loss: 0.0428 - accuracy: 0.9878 - val_loss: 0.0327 - val_accuracy: 0.9922\n",
      "Epoch 10/20\n",
      "95/95 [==============================] - 138s 1s/step - loss: 0.0422 - accuracy: 0.9862 - val_loss: 0.0309 - val_accuracy: 0.9922\n",
      "Epoch 11/20\n",
      "95/95 [==============================] - 134s 1s/step - loss: 0.0396 - accuracy: 0.9888 - val_loss: 0.0336 - val_accuracy: 0.9896\n",
      "Epoch 12/20\n",
      "95/95 [==============================] - 130s 1s/step - loss: 0.0337 - accuracy: 0.9911 - val_loss: 0.0295 - val_accuracy: 0.9909\n",
      "Epoch 13/20\n",
      "95/95 [==============================] - 135s 1s/step - loss: 0.0365 - accuracy: 0.9908 - val_loss: 0.0278 - val_accuracy: 0.9935\n",
      "Epoch 14/20\n",
      "95/95 [==============================] - 137s 1s/step - loss: 0.0352 - accuracy: 0.9891 - val_loss: 0.0272 - val_accuracy: 0.9922\n",
      "Epoch 15/20\n",
      "95/95 [==============================] - 132s 1s/step - loss: 0.0317 - accuracy: 0.9904 - val_loss: 0.0283 - val_accuracy: 0.9922\n",
      "Epoch 16/20\n",
      "95/95 [==============================] - 133s 1s/step - loss: 0.0322 - accuracy: 0.9895 - val_loss: 0.0277 - val_accuracy: 0.9909\n",
      "Epoch 17/20\n",
      "95/95 [==============================] - 137s 1s/step - loss: 0.0290 - accuracy: 0.9904 - val_loss: 0.0269 - val_accuracy: 0.9922\n",
      "Epoch 18/20\n",
      "95/95 [==============================] - 141s 1s/step - loss: 0.0287 - accuracy: 0.9931 - val_loss: 0.0348 - val_accuracy: 0.9883\n",
      "Epoch 19/20\n",
      "95/95 [==============================] - 116s 1s/step - loss: 0.0272 - accuracy: 0.9914 - val_loss: 0.0279 - val_accuracy: 0.9922\n",
      "Epoch 20/20\n",
      "95/95 [==============================] - 101s 1s/step - loss: 0.0269 - accuracy: 0.9908 - val_loss: 0.0293 - val_accuracy: 0.9909\n"
     ]
    }
   ],
   "source": [
    "print(\"[INFO] training head...\")\n",
    "H = model.fit(\n",
    "    aug.flow(trainX, trainY, batch_size=BS),\n",
    "    steps_per_epoch=len(trainX) // BS,\n",
    "    validation_data=(testX, testY),\n",
    "    validation_steps=len(testX) // BS,\n",
    "    epochs=EPOCHS)\n",
    "\n"
   ]
  },
  {
   "cell_type": "markdown",
   "id": "89a511e1",
   "metadata": {},
   "source": [
    "### make predictions on the testing set\n",
    "\n",
    "### for each image in the testing set we need to find the index of the label with corresponding largest predicted probability\n",
    "\n",
    "### classification report\n",
    "\n",
    "### serialize the model to disk\n"
   ]
  },
  {
   "cell_type": "code",
   "execution_count": 12,
   "id": "54a04a90",
   "metadata": {},
   "outputs": [
    {
     "name": "stdout",
     "output_type": "stream",
     "text": [
      "[INFO] evaluating network...\n",
      "              precision    recall  f1-score   support\n",
      "\n",
      "   with_mask       0.99      0.99      0.99       383\n",
      "without_mask       0.99      0.99      0.99       384\n",
      "\n",
      "    accuracy                           0.99       767\n",
      "   macro avg       0.99      0.99      0.99       767\n",
      "weighted avg       0.99      0.99      0.99       767\n",
      "\n",
      "[INFO] saving mask detector model...\n"
     ]
    }
   ],
   "source": [
    "print(\"[INFO] evaluating network...\")\n",
    "predIdxs = model.predict(testX, batch_size=BS)\n",
    "\n",
    "predIdxs = np.argmax(predIdxs, axis=1)\n",
    "\n",
    "\n",
    "print(classification_report(testY.argmax(axis=1), predIdxs,\n",
    "    target_names=lb.classes_))\n",
    "\n",
    "\n",
    "print(\"[INFO] saving mask detector model...\")\n",
    "model.save(\"mask_detector.model\", save_format=\"h5\")\n",
    "\n"
   ]
  },
  {
   "cell_type": "markdown",
   "id": "94f52dcc",
   "metadata": {},
   "source": [
    "### plot the training loss and accuracy"
   ]
  },
  {
   "cell_type": "code",
   "execution_count": 13,
   "id": "7da268b9",
   "metadata": {},
   "outputs": [
    {
     "data": {
      "image/png": "[encoded data removed]",
      "text/plain": [
       "<Figure size 432x288 with 1 Axes>"
      ]
     },
     "metadata": {},
     "output_type": "display_data"
    }
   ],
   "source": [
    "N = EPOCHS\n",
    "plt.style.use(\"ggplot\")\n",
    "plt.figure()\n",
    "plt.plot(np.arange(0, N), H.history[\"loss\"], label=\"train_loss\")\n",
    "plt.plot(np.arange(0, N), H.history[\"val_loss\"], label=\"val_loss\")\n",
    "plt.plot(np.arange(0, N), H.history[\"accuracy\"], label=\"train_acc\")\n",
    "plt.plot(np.arange(0, N), H.history[\"val_accuracy\"], label=\"val_acc\")\n",
    "plt.title(\"Training Loss and Accuracy\")\n",
    "plt.xlabel(\"Epoch #\")\n",
    "plt.ylabel(\"Loss/Accuracy\")\n",
    "plt.legend(loc=\"lower left\")\n",
    "plt.savefig(\"plot.png\")"
   ]
  }
 ],
 "metadata": {
  "kernelspec": {
   "display_name": "Python 3 (ipykernel)",
   "language": "python",
   "name": "python3"
  },
  "language_info": {
   "codemirror_mode": {
    "name": "ipython",
    "version": 3
   },
   "file_extension": ".py",
   "mimetype": "text/x-python",
   "name": "python",
   "nbconvert_exporter": "python",
   "pygments_lexer": "ipython3",
   "version": "3.9.7"
  }
 },
 "nbformat": 4,
 "nbformat_minor": 5
}
